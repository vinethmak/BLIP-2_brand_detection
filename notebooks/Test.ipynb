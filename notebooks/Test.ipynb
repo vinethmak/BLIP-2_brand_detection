{
 "cells": [
  {
   "cell_type": "code",
   "execution_count": 1,
   "id": "d119c400",
   "metadata": {},
   "outputs": [
    {
     "name": "stdout",
     "output_type": "stream",
     "text": [
      "Hii\n"
     ]
    }
   ],
   "source": [
    "print(\"Hii\")"
   ]
  },
  {
   "cell_type": "code",
   "execution_count": 1,
   "id": "bf0994b2",
   "metadata": {},
   "outputs": [
    {
     "name": "stderr",
     "output_type": "stream",
     "text": [
      "100%|███████████████████████████████████████| 338M/338M [00:33<00:00, 10.5MiB/s]\n"
     ]
    },
    {
     "name": "stdout",
     "output_type": "stream",
     "text": [
      "Predicted Brand: Nike (Confidence: 0.13)\n",
      "\n",
      "All brand scores:\n",
      "Nike: 0.13\n",
      "Adidas: 0.12\n",
      "Puma: 0.12\n",
      "Under Armour: 0.13\n",
      "Reebok: 0.12\n",
      "New Balance: 0.13\n",
      "Asics: 0.13\n",
      "Converse: 0.12\n"
     ]
    }
   ],
   "source": [
    "import torch\n",
    "import clip\n",
    "from PIL import Image\n",
    "import os\n",
    "\n",
    "# Load the model\n",
    "device = \"cuda\" if torch.cuda.is_available() else \"cpu\"\n",
    "model, preprocess = clip.load(\"ViT-B/32\", device=device)\n",
    "\n",
    "# Load and preprocess the image\n",
    "image_path = \"download.jpg\"  # Replace with your image path\n",
    "image = preprocess(Image.open(image_path)).unsqueeze(0).to(device)\n",
    "\n",
    "# Define brand descriptions\n",
    "brands = [\"Nike\", \"Adidas\", \"Puma\", \"Under Armour\", \"Reebok\", \"New Balance\", \"Asics\", \"Converse\"]\n",
    "text_inputs = torch.cat([clip.tokenize(f\"a photo of {b} shoes\") for b in brands]).to(device)\n",
    "\n",
    "# Encode image and text with CLIP\n",
    "with torch.no_grad():\n",
    "    image_features = model.encode_image(image)\n",
    "    text_features = model.encode_text(text_inputs)\n",
    "\n",
    "# Normalize features\n",
    "image_features /= image_features.norm(dim=-1, keepdim=True)\n",
    "text_features /= text_features.norm(dim=-1, keepdim=True)\n",
    "\n",
    "# Compute similarity\n",
    "similarity = (image_features @ text_features.T).squeeze(0)\n",
    "probs = similarity.softmax(dim=0)\n",
    "\n",
    "# Output results\n",
    "best_idx = probs.argmax().item()\n",
    "print(f\"Predicted Brand: {brands[best_idx]} (Confidence: {probs[best_idx]:.2f})\")\n",
    "\n",
    "# Optional: print all brand probabilities\n",
    "print(\"\\nAll brand scores:\")\n",
    "for i, brand in enumerate(brands):\n",
    "    print(f\"{brand}: {probs[i]:.2f}\")\n"
   ]
  },
  {
   "cell_type": "code",
   "execution_count": 1,
   "id": "3164044f",
   "metadata": {},
   "outputs": [
    {
     "ename": "ModuleNotFoundError",
     "evalue": "No module named 'torch'",
     "output_type": "error",
     "traceback": [
      "\u001b[1;31m---------------------------------------------------------------------------\u001b[0m",
      "\u001b[1;31mModuleNotFoundError\u001b[0m                       Traceback (most recent call last)",
      "Cell \u001b[1;32mIn[1], line 1\u001b[0m\n\u001b[1;32m----> 1\u001b[0m \u001b[38;5;28;01mimport\u001b[39;00m\u001b[38;5;250m \u001b[39m\u001b[38;5;21;01mtorch\u001b[39;00m\n\u001b[0;32m      2\u001b[0m \u001b[38;5;28;01mimport\u001b[39;00m\u001b[38;5;250m \u001b[39m\u001b[38;5;21;01mclip\u001b[39;00m\n\u001b[0;32m      4\u001b[0m \u001b[38;5;28mprint\u001b[39m(\u001b[38;5;124m\"\u001b[39m\u001b[38;5;124mTorch version:\u001b[39m\u001b[38;5;124m\"\u001b[39m, torch\u001b[38;5;241m.\u001b[39m__version__)\n",
      "\u001b[1;31mModuleNotFoundError\u001b[0m: No module named 'torch'"
     ]
    }
   ],
   "source": [
    "import torch\n",
    "import clip\n",
    "\n",
    "print(\"Torch version:\", torch.__version__)\n"
   ]
  }
 ],
 "metadata": {
  "kernelspec": {
   "display_name": "Python (venv)",
   "language": "python",
   "name": "venv"
  },
  "language_info": {
   "codemirror_mode": {
    "name": "ipython",
    "version": 3
   },
   "file_extension": ".py",
   "mimetype": "text/x-python",
   "name": "python",
   "nbconvert_exporter": "python",
   "pygments_lexer": "ipython3",
   "version": "3.10.10"
  }
 },
 "nbformat": 4,
 "nbformat_minor": 5
}
